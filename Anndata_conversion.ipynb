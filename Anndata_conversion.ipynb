{
 "cells": [
  {
   "cell_type": "code",
   "execution_count": 1,
   "id": "6f761b90-2997-4952-857d-f53c6d149bcd",
   "metadata": {},
   "outputs": [],
   "source": [
    "import scanpy as sc\n",
    "import pandas as pd"
   ]
  },
  {
   "cell_type": "code",
   "execution_count": 25,
   "id": "e536159e-8207-42af-86d2-8ff9c8f325a6",
   "metadata": {},
   "outputs": [
    {
     "data": {
      "text/plain": [
       "Index(['sequencing_saturation', 'stage', 'n_genes_by_counts', 'total_counts',\n",
       "       'pct_counts_mitochondrial', 'pct_counts_hemoglobin', 'celltype',\n",
       "       'celltype_main', 'subtypes', 'sample_type_rename', 'PID', 'G2M_score',\n",
       "       'phase'],\n",
       "      dtype='object')"
      ]
     },
     "execution_count": 25,
     "metadata": {},
     "output_type": "execute_result"
    }
   ],
   "source": [
    "# Load the JAX dataset\n",
    "adata = sc.read_h5ad(\"Data/endo_2022_stromal.h5ad\")\n",
    "adata.obs.columns"
   ]
  },
  {
   "cell_type": "code",
   "execution_count": 69,
   "id": "e5ea0209-d713-42c9-ab2a-d4616696767c",
   "metadata": {},
   "outputs": [
    {
     "data": {
      "text/plain": [
       "['stromal']\n",
       "Categories (1, object): ['stromal']"
      ]
     },
     "execution_count": 69,
     "metadata": {},
     "output_type": "execute_result"
    }
   ],
   "source": [
    "adata.obs['celltype_main'].unique()"
   ]
  },
  {
   "cell_type": "code",
   "execution_count": 65,
   "id": "2eede1c7-3a32-409f-9719-a229b2bf4664",
   "metadata": {},
   "outputs": [
    {
     "data": {
      "text/plain": [
       "['fibroblast 1', 'mural cells', 'fibroblast 3', 'fibroblast 2']\n",
       "Categories (4, object): ['fibroblast 1', 'fibroblast 2', 'fibroblast 3', 'mural cells']"
      ]
     },
     "execution_count": 65,
     "metadata": {},
     "output_type": "execute_result"
    }
   ],
   "source": [
    "adata.obs['celltype'].unique()"
   ]
  },
  {
   "cell_type": "code",
   "execution_count": 67,
   "id": "739517b5-513b-4429-82e2-60740bb97d9b",
   "metadata": {},
   "outputs": [
    {
     "data": {
      "text/plain": [
       "['E01', 'E02', 'E03', 'E04', 'E05', ..., 'E09', 'C01', 'C02', 'E10', 'E11']\n",
       "Length: 14\n",
       "Categories (14, object): ['E01', 'E02', 'E03', 'E04', ..., 'C02', 'E10', 'E11', 'C03']"
      ]
     },
     "execution_count": 67,
     "metadata": {},
     "output_type": "execute_result"
    }
   ],
   "source": [
    "adata.obs['PID'].unique()"
   ]
  },
  {
   "cell_type": "code",
   "execution_count": 71,
   "id": "1cd30e7a-09df-4668-ba4b-18586b6610d8",
   "metadata": {},
   "outputs": [
    {
     "data": {
      "text/plain": [
       "['EuE', 'EcP', 'EcPA', 'Ctrl', 'EcO']\n",
       "Categories (5, object): ['Ctrl', 'EuE', 'EcP', 'EcPA', 'EcO']"
      ]
     },
     "execution_count": 71,
     "metadata": {},
     "output_type": "execute_result"
    }
   ],
   "source": [
    "adata.obs['sample_type_rename'].unique()"
   ]
  },
  {
   "cell_type": "code",
   "execution_count": 75,
   "id": "79f17527-080b-4a4e-8fe8-de858c549c1f",
   "metadata": {},
   "outputs": [
    {
     "name": "stdout",
     "output_type": "stream",
     "text": [
      "['eF3', 'eF2', 'dS1-myofibroblast', 'fib C7', 'dS2', ..., 'VSMC', 'eF4-CXCL14', 'Prv-STEAP4', 'Prv-CCL19', 'fib C7-SFRP2']\n",
      "Length: 12\n",
      "Categories (12, object): ['eF1', 'eF2', 'eF3', 'dS1-myofibroblast', ..., 'Prv-MYH11', 'Prv-CCL19', 'Prv-STEAP4', 'VSMC']\n"
     ]
    }
   ],
   "source": [
    "adata.obs['subtypes'].unique()"
   ]
  },
  {
   "cell_type": "code",
   "execution_count": 77,
   "id": "70f48560-94c9-462f-9288-fc40acfec7f7",
   "metadata": {},
   "outputs": [
    {
     "data": {
      "text/plain": [
       "['0', '3', '2', '4']\n",
       "Categories (4, object): ['0', '2', '3', '4']"
      ]
     },
     "execution_count": 77,
     "metadata": {},
     "output_type": "execute_result"
    }
   ],
   "source": [
    "adata.obs['stage'].unique()"
   ]
  },
  {
   "cell_type": "code",
   "execution_count": 79,
   "id": "fca820b8-b33b-418a-9a79-3f4383552bcd",
   "metadata": {},
   "outputs": [],
   "source": [
    "# Export counts and metadata for R\n",
    "adata.to_df().to_csv(\"DATA/stromal_expression.csv\")\n",
    "adata.obs.to_csv(\"DATA/stromal_metadata.csv\")"
   ]
  },
  {
   "cell_type": "code",
   "execution_count": null,
   "id": "4e1c3d8b-75b2-427d-b323-cf066ebce810",
   "metadata": {},
   "outputs": [],
   "source": []
  }
 ],
 "metadata": {
  "kernelspec": {
   "display_name": "Python 3 (ipykernel)",
   "language": "python",
   "name": "python3"
  },
  "language_info": {
   "codemirror_mode": {
    "name": "ipython",
    "version": 3
   },
   "file_extension": ".py",
   "mimetype": "text/x-python",
   "name": "python",
   "nbconvert_exporter": "python",
   "pygments_lexer": "ipython3",
   "version": "3.11.7"
  }
 },
 "nbformat": 4,
 "nbformat_minor": 5
}
