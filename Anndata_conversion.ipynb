{
 "cells": [
  {
   "cell_type": "code",
   "execution_count": 20,
   "id": "6f761b90-2997-4952-857d-f53c6d149bcd",
   "metadata": {},
   "outputs": [],
   "source": [
    "import scanpy as sc\n",
    "import pandas as pd\n",
    "import scipy.sparse as sp"
   ]
  },
  {
   "cell_type": "code",
   "execution_count": 16,
   "id": "e536159e-8207-42af-86d2-8ff9c8f325a6",
   "metadata": {},
   "outputs": [
    {
     "data": {
      "text/plain": [
       "Index(['sequencing_saturation', 'stage', 'n_genes_by_counts', 'total_counts',\n",
       "       'pct_counts_mitochondrial', 'pct_counts_hemoglobin', 'celltype',\n",
       "       'celltype_main', 'subtypes', 'sample_type_rename', 'PID', 'G2M_score',\n",
       "       'phase'],\n",
       "      dtype='object')"
      ]
     },
     "execution_count": 16,
     "metadata": {},
     "output_type": "execute_result"
    }
   ],
   "source": [
    "# Load the JAX dataset\n",
    "adata = sc.read_h5ad(\"Data/endo_2022_stromal.h5ad\")\n",
    "adata.obs.columns"
   ]
  },
  {
   "cell_type": "code",
   "execution_count": 18,
   "id": "4e1c3d8b-75b2-427d-b323-cf066ebce810",
   "metadata": {},
   "outputs": [
    {
     "data": {
      "text/plain": [
       "Layers with keys: normed, raw"
      ]
     },
     "execution_count": 18,
     "metadata": {},
     "output_type": "execute_result"
    }
   ],
   "source": [
    "adata.layers"
   ]
  },
  {
   "cell_type": "code",
   "execution_count": 58,
   "id": "f3d54ef4-1b43-422a-9e51-6efda415ce30",
   "metadata": {},
   "outputs": [
    {
     "data": {
      "text/plain": [
       "<42713x24401 sparse matrix of type '<class 'numpy.float32'>'\n",
       "\twith 126772747 stored elements in Compressed Sparse Row format>"
      ]
     },
     "execution_count": 58,
     "metadata": {},
     "output_type": "execute_result"
    }
   ],
   "source": [
    "adata.layers[\"normed\"]"
   ]
  },
  {
   "cell_type": "code",
   "execution_count": 42,
   "id": "39a638a2-a20b-4848-aa7c-ddadbaf2a309",
   "metadata": {},
   "outputs": [],
   "source": [
    "# Extract normed layer\n",
    "X_norm = adata.layers[\"normed\"]"
   ]
  },
  {
   "cell_type": "code",
   "execution_count": 30,
   "id": "f3ba8be8-3da0-4717-9eef-bb2810992061",
   "metadata": {},
   "outputs": [],
   "source": [
    "var = adata.var  # gene metadata (rows)\n",
    "obs = adata.obs  # cell metadata (columns)"
   ]
  },
  {
   "cell_type": "code",
   "execution_count": 48,
   "id": "07c6ef39-b910-4865-a67f-c6b59a4e7744",
   "metadata": {},
   "outputs": [],
   "source": [
    "# Convert to a dataframe with gene names as rows, cells as columns\n",
    "X_norm_t = X_norm.T\n",
    "if sp.issparse(X_norm_t):\n",
    "    expr_norm = pd.DataFrame.sparse.from_spmatrix(\n",
    "        X_norm_t, index=var.index, columns=obs.index\n",
    "    )\n",
    "else:\n",
    "    expr_norm = pd.DataFrame(X_norm_t, index=var.index, columns=obs.index)"
   ]
  },
  {
   "cell_type": "code",
   "execution_count": 50,
   "id": "4416746f-2347-48dc-a096-3e6811f6f644",
   "metadata": {},
   "outputs": [
    {
     "data": {
      "text/plain": [
       "(24401, 42713)"
      ]
     },
     "execution_count": 50,
     "metadata": {},
     "output_type": "execute_result"
    }
   ],
   "source": [
    "expr_norm.shape"
   ]
  },
  {
   "cell_type": "code",
   "execution_count": 52,
   "id": "2b4cd56e-7c4b-420d-a66f-50c03d478d5b",
   "metadata": {},
   "outputs": [
    {
     "name": "stdout",
     "output_type": "stream",
     "text": [
      "index     AAACCCAAGACCAAGC-1-0  AAACCCATCACAACCA-1-0  AAACGAAGTCTTCCGT-1-0  \\\n",
      "index                                                                        \n",
      "A1BG                  1.961215              0.578215              0.729038   \n",
      "A1BG-AS1                     0                     0                     0   \n",
      "A2M                   1.961215               2.31286              0.729038   \n",
      "A2M-AS1                      0                     0                     0   \n",
      "A2ML1                        0                     0                     0   \n",
      "...                        ...                   ...                   ...   \n",
      "ZXDC                         0                     0                     0   \n",
      "ZYG11A                       0                     0                     0   \n",
      "ZYG11B                       0                     0              1.458076   \n",
      "ZYX                          0               2.31286              1.458076   \n",
      "ZZEF1                        0               1.15643              0.729038   \n",
      "\n",
      "index     AAACGAATCAGCTTCC-1-0  AAACGCTAGTCATACC-1-0  AAACGCTCATTAGGCT-1-0  \\\n",
      "index                                                                        \n",
      "A1BG                         0                     0              1.480755   \n",
      "A1BG-AS1                     0                     0                     0   \n",
      "A2M                   1.609274              7.810381              3.701889   \n",
      "A2M-AS1                      0                     0                     0   \n",
      "A2ML1                        0                     0                     0   \n",
      "...                        ...                   ...                   ...   \n",
      "ZXDC                         0                     0                     0   \n",
      "ZYG11A                       0                     0                     0   \n",
      "ZYG11B                       0                     0              0.740378   \n",
      "ZYX                          0               3.90519              1.480755   \n",
      "ZZEF1                        0                     0                     0   \n",
      "\n",
      "index     AAAGAACAGCCTGACC-1-0  AAAGAACCATGTTTGG-1-0  AAAGAACTCGGATAAA-1-0  \\\n",
      "index                                                                        \n",
      "A1BG                  0.501101                     0              1.337659   \n",
      "A1BG-AS1                     0                     0                     0   \n",
      "A2M                   1.002202                     0                     0   \n",
      "A2M-AS1               0.501101                     0                     0   \n",
      "A2ML1                        0                     0                     0   \n",
      "...                        ...                   ...                   ...   \n",
      "ZXDC                         0                     0                     0   \n",
      "ZYG11A                       0                     0                     0   \n",
      "ZYG11B                       0                     0              0.668829   \n",
      "ZYX                   1.503303              3.927384              2.675317   \n",
      "ZZEF1                        0                     0                     0   \n",
      "\n",
      "index     AAAGGATAGAGCAGAA-1-0  ...  TTTGATCTCCGCGAGT-1-30  \\\n",
      "index                           ...                          \n",
      "A1BG                         0  ...                      0   \n",
      "A1BG-AS1                     0  ...                      0   \n",
      "A2M                   8.257007  ...               0.758249   \n",
      "A2M-AS1                      0  ...                      0   \n",
      "A2ML1                        0  ...                      0   \n",
      "...                        ...  ...                    ...   \n",
      "ZXDC                         0  ...                      0   \n",
      "ZYG11A                       0  ...                      0   \n",
      "ZYG11B                       0  ...               0.758249   \n",
      "ZYX                   0.917445  ...                      0   \n",
      "ZZEF1                        0  ...                      0   \n",
      "\n",
      "index     TTTGGAGAGCTACAAA-1-30  TTTGGAGCAAAGCGTG-1-30  TTTGGAGCACCAGACC-1-30  \\\n",
      "index                                                                           \n",
      "A1BG                          0                      0                      0   \n",
      "A1BG-AS1                      0                      0                      0   \n",
      "A2M                           0                      0                      0   \n",
      "A2M-AS1                       0                      0                      0   \n",
      "A2ML1                         0                      0                      0   \n",
      "...                         ...                    ...                    ...   \n",
      "ZXDC                   0.710982                      0                      0   \n",
      "ZYG11A                        0                      0                      0   \n",
      "ZYG11B                        0               2.645916                      0   \n",
      "ZYX                    2.843926               0.881972               1.006853   \n",
      "ZZEF1                         0                      0                      0   \n",
      "\n",
      "index     TTTGGAGCACGCCAGT-1-30  TTTGGAGCATCATTGG-1-30  TTTGGAGTCGTGCACG-1-30  \\\n",
      "index                                                                           \n",
      "A1BG                          0               4.361108                      0   \n",
      "A1BG-AS1                      0                      0                      0   \n",
      "A2M                           0                      0               0.774618   \n",
      "A2M-AS1                       0                      0                      0   \n",
      "A2ML1                         0                      0                      0   \n",
      "...                         ...                    ...                    ...   \n",
      "ZXDC                          0                      0                      0   \n",
      "ZYG11A                        0                      0                      0   \n",
      "ZYG11B                        0               1.090277                      0   \n",
      "ZYX                    2.540368                      0                      0   \n",
      "ZZEF1                         0               1.090277                      0   \n",
      "\n",
      "index     TTTGGTTTCTTACTGT-1-30  TTTGTTGCAGGGTTGA-1-30  TTTGTTGGTTAGGGAC-1-30  \n",
      "index                                                                          \n",
      "A1BG                          0                      0                      0  \n",
      "A1BG-AS1                      0                      0                      0  \n",
      "A2M                           0               1.476187                      0  \n",
      "A2M-AS1                       0                      0                      0  \n",
      "A2ML1                         0                      0                      0  \n",
      "...                         ...                    ...                    ...  \n",
      "ZXDC                          0                      0                      0  \n",
      "ZYG11A                        0                      0                      0  \n",
      "ZYG11B                        0                      0                      0  \n",
      "ZYX                    0.941423                      0                      0  \n",
      "ZZEF1                         0                      0               0.925821  \n",
      "\n",
      "[24401 rows x 42713 columns]\n"
     ]
    }
   ],
   "source": [
    "print(expr_norm)"
   ]
  },
  {
   "cell_type": "code",
   "execution_count": 62,
   "id": "1bea5b0c-63e9-4f1c-8ee4-f34be1f17c64",
   "metadata": {},
   "outputs": [
    {
     "ename": "KeyboardInterrupt",
     "evalue": "",
     "output_type": "error",
     "traceback": [
      "\u001b[1;31m---------------------------------------------------------------------------\u001b[0m",
      "\u001b[1;31mKeyboardInterrupt\u001b[0m                         Traceback (most recent call last)",
      "Cell \u001b[1;32mIn[62], line 2\u001b[0m\n\u001b[0;32m      1\u001b[0m \u001b[38;5;66;03m# Save normalized expression + metadata\u001b[39;00m\n\u001b[1;32m----> 2\u001b[0m expr_norm\u001b[38;5;241m.\u001b[39mto_csv(\u001b[38;5;124m\"\u001b[39m\u001b[38;5;124mDATA/stromal_expression_normed.csv\u001b[39m\u001b[38;5;124m\"\u001b[39m)\n\u001b[0;32m      3\u001b[0m adata\u001b[38;5;241m.\u001b[39mobs\u001b[38;5;241m.\u001b[39mto_csv(\u001b[38;5;124m\"\u001b[39m\u001b[38;5;124mDATA/stromal_metadata.csv\u001b[39m\u001b[38;5;124m\"\u001b[39m)\n",
      "File \u001b[1;32m~\\anaconda3\\Lib\\site-packages\\pandas\\util\\_decorators.py:333\u001b[0m, in \u001b[0;36mdeprecate_nonkeyword_arguments.<locals>.decorate.<locals>.wrapper\u001b[1;34m(*args, **kwargs)\u001b[0m\n\u001b[0;32m    327\u001b[0m \u001b[38;5;28;01mif\u001b[39;00m \u001b[38;5;28mlen\u001b[39m(args) \u001b[38;5;241m>\u001b[39m num_allow_args:\n\u001b[0;32m    328\u001b[0m     warnings\u001b[38;5;241m.\u001b[39mwarn(\n\u001b[0;32m    329\u001b[0m         msg\u001b[38;5;241m.\u001b[39mformat(arguments\u001b[38;5;241m=\u001b[39m_format_argument_list(allow_args)),\n\u001b[0;32m    330\u001b[0m         \u001b[38;5;167;01mFutureWarning\u001b[39;00m,\n\u001b[0;32m    331\u001b[0m         stacklevel\u001b[38;5;241m=\u001b[39mfind_stack_level(),\n\u001b[0;32m    332\u001b[0m     )\n\u001b[1;32m--> 333\u001b[0m \u001b[38;5;28;01mreturn\u001b[39;00m func(\u001b[38;5;241m*\u001b[39margs, \u001b[38;5;241m*\u001b[39m\u001b[38;5;241m*\u001b[39mkwargs)\n",
      "File \u001b[1;32m~\\anaconda3\\Lib\\site-packages\\pandas\\core\\generic.py:3967\u001b[0m, in \u001b[0;36mNDFrame.to_csv\u001b[1;34m(self, path_or_buf, sep, na_rep, float_format, columns, header, index, index_label, mode, encoding, compression, quoting, quotechar, lineterminator, chunksize, date_format, doublequote, escapechar, decimal, errors, storage_options)\u001b[0m\n\u001b[0;32m   3956\u001b[0m df \u001b[38;5;241m=\u001b[39m \u001b[38;5;28mself\u001b[39m \u001b[38;5;28;01mif\u001b[39;00m \u001b[38;5;28misinstance\u001b[39m(\u001b[38;5;28mself\u001b[39m, ABCDataFrame) \u001b[38;5;28;01melse\u001b[39;00m \u001b[38;5;28mself\u001b[39m\u001b[38;5;241m.\u001b[39mto_frame()\n\u001b[0;32m   3958\u001b[0m formatter \u001b[38;5;241m=\u001b[39m DataFrameFormatter(\n\u001b[0;32m   3959\u001b[0m     frame\u001b[38;5;241m=\u001b[39mdf,\n\u001b[0;32m   3960\u001b[0m     header\u001b[38;5;241m=\u001b[39mheader,\n\u001b[1;32m   (...)\u001b[0m\n\u001b[0;32m   3964\u001b[0m     decimal\u001b[38;5;241m=\u001b[39mdecimal,\n\u001b[0;32m   3965\u001b[0m )\n\u001b[1;32m-> 3967\u001b[0m \u001b[38;5;28;01mreturn\u001b[39;00m DataFrameRenderer(formatter)\u001b[38;5;241m.\u001b[39mto_csv(\n\u001b[0;32m   3968\u001b[0m     path_or_buf,\n\u001b[0;32m   3969\u001b[0m     lineterminator\u001b[38;5;241m=\u001b[39mlineterminator,\n\u001b[0;32m   3970\u001b[0m     sep\u001b[38;5;241m=\u001b[39msep,\n\u001b[0;32m   3971\u001b[0m     encoding\u001b[38;5;241m=\u001b[39mencoding,\n\u001b[0;32m   3972\u001b[0m     errors\u001b[38;5;241m=\u001b[39merrors,\n\u001b[0;32m   3973\u001b[0m     compression\u001b[38;5;241m=\u001b[39mcompression,\n\u001b[0;32m   3974\u001b[0m     quoting\u001b[38;5;241m=\u001b[39mquoting,\n\u001b[0;32m   3975\u001b[0m     columns\u001b[38;5;241m=\u001b[39mcolumns,\n\u001b[0;32m   3976\u001b[0m     index_label\u001b[38;5;241m=\u001b[39mindex_label,\n\u001b[0;32m   3977\u001b[0m     mode\u001b[38;5;241m=\u001b[39mmode,\n\u001b[0;32m   3978\u001b[0m     chunksize\u001b[38;5;241m=\u001b[39mchunksize,\n\u001b[0;32m   3979\u001b[0m     quotechar\u001b[38;5;241m=\u001b[39mquotechar,\n\u001b[0;32m   3980\u001b[0m     date_format\u001b[38;5;241m=\u001b[39mdate_format,\n\u001b[0;32m   3981\u001b[0m     doublequote\u001b[38;5;241m=\u001b[39mdoublequote,\n\u001b[0;32m   3982\u001b[0m     escapechar\u001b[38;5;241m=\u001b[39mescapechar,\n\u001b[0;32m   3983\u001b[0m     storage_options\u001b[38;5;241m=\u001b[39mstorage_options,\n\u001b[0;32m   3984\u001b[0m )\n",
      "File \u001b[1;32m~\\anaconda3\\Lib\\site-packages\\pandas\\io\\formats\\format.py:1014\u001b[0m, in \u001b[0;36mDataFrameRenderer.to_csv\u001b[1;34m(self, path_or_buf, encoding, sep, columns, index_label, mode, compression, quoting, quotechar, lineterminator, chunksize, date_format, doublequote, escapechar, errors, storage_options)\u001b[0m\n\u001b[0;32m    993\u001b[0m     created_buffer \u001b[38;5;241m=\u001b[39m \u001b[38;5;28;01mFalse\u001b[39;00m\n\u001b[0;32m    995\u001b[0m csv_formatter \u001b[38;5;241m=\u001b[39m CSVFormatter(\n\u001b[0;32m    996\u001b[0m     path_or_buf\u001b[38;5;241m=\u001b[39mpath_or_buf,\n\u001b[0;32m    997\u001b[0m     lineterminator\u001b[38;5;241m=\u001b[39mlineterminator,\n\u001b[1;32m   (...)\u001b[0m\n\u001b[0;32m   1012\u001b[0m     formatter\u001b[38;5;241m=\u001b[39m\u001b[38;5;28mself\u001b[39m\u001b[38;5;241m.\u001b[39mfmt,\n\u001b[0;32m   1013\u001b[0m )\n\u001b[1;32m-> 1014\u001b[0m csv_formatter\u001b[38;5;241m.\u001b[39msave()\n\u001b[0;32m   1016\u001b[0m \u001b[38;5;28;01mif\u001b[39;00m created_buffer:\n\u001b[0;32m   1017\u001b[0m     \u001b[38;5;28;01massert\u001b[39;00m \u001b[38;5;28misinstance\u001b[39m(path_or_buf, StringIO)\n",
      "File \u001b[1;32m~\\anaconda3\\Lib\\site-packages\\pandas\\io\\formats\\csvs.py:270\u001b[0m, in \u001b[0;36mCSVFormatter.save\u001b[1;34m(self)\u001b[0m\n\u001b[0;32m    251\u001b[0m \u001b[38;5;28;01mwith\u001b[39;00m get_handle(\n\u001b[0;32m    252\u001b[0m     \u001b[38;5;28mself\u001b[39m\u001b[38;5;241m.\u001b[39mfilepath_or_buffer,\n\u001b[0;32m    253\u001b[0m     \u001b[38;5;28mself\u001b[39m\u001b[38;5;241m.\u001b[39mmode,\n\u001b[1;32m   (...)\u001b[0m\n\u001b[0;32m    258\u001b[0m ) \u001b[38;5;28;01mas\u001b[39;00m handles:\n\u001b[0;32m    259\u001b[0m     \u001b[38;5;66;03m# Note: self.encoding is irrelevant here\u001b[39;00m\n\u001b[0;32m    260\u001b[0m     \u001b[38;5;28mself\u001b[39m\u001b[38;5;241m.\u001b[39mwriter \u001b[38;5;241m=\u001b[39m csvlib\u001b[38;5;241m.\u001b[39mwriter(\n\u001b[0;32m    261\u001b[0m         handles\u001b[38;5;241m.\u001b[39mhandle,\n\u001b[0;32m    262\u001b[0m         lineterminator\u001b[38;5;241m=\u001b[39m\u001b[38;5;28mself\u001b[39m\u001b[38;5;241m.\u001b[39mlineterminator,\n\u001b[1;32m   (...)\u001b[0m\n\u001b[0;32m    267\u001b[0m         quotechar\u001b[38;5;241m=\u001b[39m\u001b[38;5;28mself\u001b[39m\u001b[38;5;241m.\u001b[39mquotechar,\n\u001b[0;32m    268\u001b[0m     )\n\u001b[1;32m--> 270\u001b[0m     \u001b[38;5;28mself\u001b[39m\u001b[38;5;241m.\u001b[39m_save()\n",
      "File \u001b[1;32m~\\anaconda3\\Lib\\site-packages\\pandas\\io\\formats\\csvs.py:275\u001b[0m, in \u001b[0;36mCSVFormatter._save\u001b[1;34m(self)\u001b[0m\n\u001b[0;32m    273\u001b[0m \u001b[38;5;28;01mif\u001b[39;00m \u001b[38;5;28mself\u001b[39m\u001b[38;5;241m.\u001b[39m_need_to_save_header:\n\u001b[0;32m    274\u001b[0m     \u001b[38;5;28mself\u001b[39m\u001b[38;5;241m.\u001b[39m_save_header()\n\u001b[1;32m--> 275\u001b[0m \u001b[38;5;28mself\u001b[39m\u001b[38;5;241m.\u001b[39m_save_body()\n",
      "File \u001b[1;32m~\\anaconda3\\Lib\\site-packages\\pandas\\io\\formats\\csvs.py:313\u001b[0m, in \u001b[0;36mCSVFormatter._save_body\u001b[1;34m(self)\u001b[0m\n\u001b[0;32m    311\u001b[0m \u001b[38;5;28;01mif\u001b[39;00m start_i \u001b[38;5;241m>\u001b[39m\u001b[38;5;241m=\u001b[39m end_i:\n\u001b[0;32m    312\u001b[0m     \u001b[38;5;28;01mbreak\u001b[39;00m\n\u001b[1;32m--> 313\u001b[0m \u001b[38;5;28mself\u001b[39m\u001b[38;5;241m.\u001b[39m_save_chunk(start_i, end_i)\n",
      "File \u001b[1;32m~\\anaconda3\\Lib\\site-packages\\pandas\\io\\formats\\csvs.py:318\u001b[0m, in \u001b[0;36mCSVFormatter._save_chunk\u001b[1;34m(self, start_i, end_i)\u001b[0m\n\u001b[0;32m    315\u001b[0m \u001b[38;5;28;01mdef\u001b[39;00m \u001b[38;5;21m_save_chunk\u001b[39m(\u001b[38;5;28mself\u001b[39m, start_i: \u001b[38;5;28mint\u001b[39m, end_i: \u001b[38;5;28mint\u001b[39m) \u001b[38;5;241m-\u001b[39m\u001b[38;5;241m>\u001b[39m \u001b[38;5;28;01mNone\u001b[39;00m:\n\u001b[0;32m    316\u001b[0m     \u001b[38;5;66;03m# create the data for a chunk\u001b[39;00m\n\u001b[0;32m    317\u001b[0m     slicer \u001b[38;5;241m=\u001b[39m \u001b[38;5;28mslice\u001b[39m(start_i, end_i)\n\u001b[1;32m--> 318\u001b[0m     df \u001b[38;5;241m=\u001b[39m \u001b[38;5;28mself\u001b[39m\u001b[38;5;241m.\u001b[39mobj\u001b[38;5;241m.\u001b[39miloc[slicer]\n\u001b[0;32m    320\u001b[0m     res \u001b[38;5;241m=\u001b[39m df\u001b[38;5;241m.\u001b[39m_get_values_for_csv(\u001b[38;5;241m*\u001b[39m\u001b[38;5;241m*\u001b[39m\u001b[38;5;28mself\u001b[39m\u001b[38;5;241m.\u001b[39m_number_format)\n\u001b[0;32m    321\u001b[0m     data \u001b[38;5;241m=\u001b[39m \u001b[38;5;28mlist\u001b[39m(res\u001b[38;5;241m.\u001b[39m_iter_column_arrays())\n",
      "File \u001b[1;32m~\\anaconda3\\Lib\\site-packages\\pandas\\core\\indexing.py:1191\u001b[0m, in \u001b[0;36m_LocationIndexer.__getitem__\u001b[1;34m(self, key)\u001b[0m\n\u001b[0;32m   1189\u001b[0m maybe_callable \u001b[38;5;241m=\u001b[39m com\u001b[38;5;241m.\u001b[39mapply_if_callable(key, \u001b[38;5;28mself\u001b[39m\u001b[38;5;241m.\u001b[39mobj)\n\u001b[0;32m   1190\u001b[0m maybe_callable \u001b[38;5;241m=\u001b[39m \u001b[38;5;28mself\u001b[39m\u001b[38;5;241m.\u001b[39m_check_deprecated_callable_usage(key, maybe_callable)\n\u001b[1;32m-> 1191\u001b[0m \u001b[38;5;28;01mreturn\u001b[39;00m \u001b[38;5;28mself\u001b[39m\u001b[38;5;241m.\u001b[39m_getitem_axis(maybe_callable, axis\u001b[38;5;241m=\u001b[39maxis)\n",
      "File \u001b[1;32m~\\anaconda3\\Lib\\site-packages\\pandas\\core\\indexing.py:1729\u001b[0m, in \u001b[0;36m_iLocIndexer._getitem_axis\u001b[1;34m(self, key, axis)\u001b[0m\n\u001b[0;32m   1723\u001b[0m     \u001b[38;5;28;01mraise\u001b[39;00m \u001b[38;5;167;01mIndexError\u001b[39;00m(\n\u001b[0;32m   1724\u001b[0m         \u001b[38;5;124m\"\u001b[39m\u001b[38;5;124mDataFrame indexer is not allowed for .iloc\u001b[39m\u001b[38;5;130;01m\\n\u001b[39;00m\u001b[38;5;124m\"\u001b[39m\n\u001b[0;32m   1725\u001b[0m         \u001b[38;5;124m\"\u001b[39m\u001b[38;5;124mConsider using .loc for automatic alignment.\u001b[39m\u001b[38;5;124m\"\u001b[39m\n\u001b[0;32m   1726\u001b[0m     )\n\u001b[0;32m   1728\u001b[0m \u001b[38;5;28;01mif\u001b[39;00m \u001b[38;5;28misinstance\u001b[39m(key, \u001b[38;5;28mslice\u001b[39m):\n\u001b[1;32m-> 1729\u001b[0m     \u001b[38;5;28;01mreturn\u001b[39;00m \u001b[38;5;28mself\u001b[39m\u001b[38;5;241m.\u001b[39m_get_slice_axis(key, axis\u001b[38;5;241m=\u001b[39maxis)\n\u001b[0;32m   1731\u001b[0m \u001b[38;5;28;01mif\u001b[39;00m is_iterator(key):\n\u001b[0;32m   1732\u001b[0m     key \u001b[38;5;241m=\u001b[39m \u001b[38;5;28mlist\u001b[39m(key)\n",
      "File \u001b[1;32m~\\anaconda3\\Lib\\site-packages\\pandas\\core\\indexing.py:1765\u001b[0m, in \u001b[0;36m_iLocIndexer._get_slice_axis\u001b[1;34m(self, slice_obj, axis)\u001b[0m\n\u001b[0;32m   1763\u001b[0m labels \u001b[38;5;241m=\u001b[39m obj\u001b[38;5;241m.\u001b[39m_get_axis(axis)\n\u001b[0;32m   1764\u001b[0m labels\u001b[38;5;241m.\u001b[39m_validate_positional_slice(slice_obj)\n\u001b[1;32m-> 1765\u001b[0m \u001b[38;5;28;01mreturn\u001b[39;00m \u001b[38;5;28mself\u001b[39m\u001b[38;5;241m.\u001b[39mobj\u001b[38;5;241m.\u001b[39m_slice(slice_obj, axis\u001b[38;5;241m=\u001b[39maxis)\n",
      "File \u001b[1;32m~\\anaconda3\\Lib\\site-packages\\pandas\\core\\generic.py:4369\u001b[0m, in \u001b[0;36mNDFrame._slice\u001b[1;34m(self, slobj, axis)\u001b[0m\n\u001b[0;32m   4367\u001b[0m \u001b[38;5;28;01massert\u001b[39;00m \u001b[38;5;28misinstance\u001b[39m(slobj, \u001b[38;5;28mslice\u001b[39m), \u001b[38;5;28mtype\u001b[39m(slobj)\n\u001b[0;32m   4368\u001b[0m axis \u001b[38;5;241m=\u001b[39m \u001b[38;5;28mself\u001b[39m\u001b[38;5;241m.\u001b[39m_get_block_manager_axis(axis)\n\u001b[1;32m-> 4369\u001b[0m new_mgr \u001b[38;5;241m=\u001b[39m \u001b[38;5;28mself\u001b[39m\u001b[38;5;241m.\u001b[39m_mgr\u001b[38;5;241m.\u001b[39mget_slice(slobj, axis\u001b[38;5;241m=\u001b[39maxis)\n\u001b[0;32m   4370\u001b[0m result \u001b[38;5;241m=\u001b[39m \u001b[38;5;28mself\u001b[39m\u001b[38;5;241m.\u001b[39m_constructor_from_mgr(new_mgr, axes\u001b[38;5;241m=\u001b[39mnew_mgr\u001b[38;5;241m.\u001b[39maxes)\n\u001b[0;32m   4371\u001b[0m result \u001b[38;5;241m=\u001b[39m result\u001b[38;5;241m.\u001b[39m__finalize__(\u001b[38;5;28mself\u001b[39m)\n",
      "File \u001b[1;32minternals.pyx:871\u001b[0m, in \u001b[0;36mpandas._libs.internals.BlockManager.get_slice\u001b[1;34m()\u001b[0m\n",
      "File \u001b[1;32minternals.pyx:852\u001b[0m, in \u001b[0;36mpandas._libs.internals.BlockManager._slice_mgr_rows\u001b[1;34m()\u001b[0m\n",
      "File \u001b[1;32minternals.pyx:704\u001b[0m, in \u001b[0;36mpandas._libs.internals.Block.slice_block_rows\u001b[1;34m()\u001b[0m\n",
      "File \u001b[1;32m~\\anaconda3\\Lib\\site-packages\\pandas\\core\\internals\\blocks.py:2528\u001b[0m, in \u001b[0;36mExtensionBlock.slice_block_rows\u001b[1;34m(self, slicer)\u001b[0m\n\u001b[0;32m   2523\u001b[0m \u001b[38;5;250m\u001b[39m\u001b[38;5;124;03m\"\"\"\u001b[39;00m\n\u001b[0;32m   2524\u001b[0m \u001b[38;5;124;03mPerform __getitem__-like specialized to slicing along index.\u001b[39;00m\n\u001b[0;32m   2525\u001b[0m \u001b[38;5;124;03m\"\"\"\u001b[39;00m\n\u001b[0;32m   2526\u001b[0m \u001b[38;5;66;03m# GH#42787 in principle this is equivalent to values[..., slicer], but we don't\u001b[39;00m\n\u001b[0;32m   2527\u001b[0m \u001b[38;5;66;03m# require subclasses of ExtensionArray to support that form (for now).\u001b[39;00m\n\u001b[1;32m-> 2528\u001b[0m new_values \u001b[38;5;241m=\u001b[39m \u001b[38;5;28mself\u001b[39m\u001b[38;5;241m.\u001b[39mvalues[slicer]\n\u001b[0;32m   2529\u001b[0m \u001b[38;5;28;01mreturn\u001b[39;00m \u001b[38;5;28mtype\u001b[39m(\u001b[38;5;28mself\u001b[39m)(new_values, \u001b[38;5;28mself\u001b[39m\u001b[38;5;241m.\u001b[39m_mgr_locs, ndim\u001b[38;5;241m=\u001b[39m\u001b[38;5;28mself\u001b[39m\u001b[38;5;241m.\u001b[39mndim, refs\u001b[38;5;241m=\u001b[39m\u001b[38;5;28mself\u001b[39m\u001b[38;5;241m.\u001b[39mrefs)\n",
      "File \u001b[1;32m~\\anaconda3\\Lib\\site-packages\\pandas\\core\\arrays\\sparse\\array.py:972\u001b[0m, in \u001b[0;36mSparseArray.__getitem__\u001b[1;34m(self, key)\u001b[0m\n\u001b[0;32m    969\u001b[0m     end \u001b[38;5;241m+\u001b[39m\u001b[38;5;241m=\u001b[39m \u001b[38;5;28mlen\u001b[39m(\u001b[38;5;28mself\u001b[39m)\n\u001b[0;32m    971\u001b[0m indices \u001b[38;5;241m=\u001b[39m \u001b[38;5;28mself\u001b[39m\u001b[38;5;241m.\u001b[39msp_index\u001b[38;5;241m.\u001b[39mindices\n\u001b[1;32m--> 972\u001b[0m keep_inds \u001b[38;5;241m=\u001b[39m np\u001b[38;5;241m.\u001b[39mflatnonzero((indices \u001b[38;5;241m>\u001b[39m\u001b[38;5;241m=\u001b[39m start) \u001b[38;5;241m&\u001b[39m (indices \u001b[38;5;241m<\u001b[39m end))\n\u001b[0;32m    973\u001b[0m sp_vals \u001b[38;5;241m=\u001b[39m \u001b[38;5;28mself\u001b[39m\u001b[38;5;241m.\u001b[39msp_values[keep_inds]\n\u001b[0;32m    975\u001b[0m sp_index \u001b[38;5;241m=\u001b[39m indices[keep_inds]\u001b[38;5;241m.\u001b[39mcopy()\n",
      "File \u001b[1;32m~\\anaconda3\\Lib\\site-packages\\numpy\\core\\numeric.py:611\u001b[0m, in \u001b[0;36m_flatnonzero_dispatcher\u001b[1;34m(a)\u001b[0m\n\u001b[0;32m    607\u001b[0m         \u001b[38;5;28;01mreturn\u001b[39;00m argwhere(a)[:,:\u001b[38;5;241m0\u001b[39m]\n\u001b[0;32m    608\u001b[0m     \u001b[38;5;28;01mreturn\u001b[39;00m transpose(nonzero(a))\n\u001b[1;32m--> 611\u001b[0m \u001b[38;5;28;01mdef\u001b[39;00m \u001b[38;5;21m_flatnonzero_dispatcher\u001b[39m(a):\n\u001b[0;32m    612\u001b[0m     \u001b[38;5;28;01mreturn\u001b[39;00m (a,)\n\u001b[0;32m    615\u001b[0m \u001b[38;5;129m@array_function_dispatch\u001b[39m(_flatnonzero_dispatcher)\n\u001b[0;32m    616\u001b[0m \u001b[38;5;28;01mdef\u001b[39;00m \u001b[38;5;21mflatnonzero\u001b[39m(a):\n",
      "\u001b[1;31mKeyboardInterrupt\u001b[0m: "
     ]
    }
   ],
   "source": [
    "# Save normalized expression + metadata\n",
    "expr_norm.to_csv(\"DATA/stromal_expression_normed.csv\")\n",
    "adata.obs.to_csv(\"DATA/stromal_metadata.csv\")"
   ]
  },
  {
   "cell_type": "code",
   "execution_count": null,
   "id": "dfce84b8-0566-495e-aa77-5c1e1e328af7",
   "metadata": {},
   "outputs": [],
   "source": []
  }
 ],
 "metadata": {
  "kernelspec": {
   "display_name": "Python 3 (ipykernel)",
   "language": "python",
   "name": "python3"
  },
  "language_info": {
   "codemirror_mode": {
    "name": "ipython",
    "version": 3
   },
   "file_extension": ".py",
   "mimetype": "text/x-python",
   "name": "python",
   "nbconvert_exporter": "python",
   "pygments_lexer": "ipython3",
   "version": "3.11.7"
  }
 },
 "nbformat": 4,
 "nbformat_minor": 5
}
